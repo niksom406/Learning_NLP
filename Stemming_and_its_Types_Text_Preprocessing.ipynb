{
  "nbformat": 4,
  "nbformat_minor": 0,
  "metadata": {
    "colab": {
      "provenance": [],
      "authorship_tag": "ABX9TyNI1xN5j7i+l9ZkUXThIp7h",
      "include_colab_link": true
    },
    "kernelspec": {
      "name": "python3",
      "display_name": "Python 3"
    },
    "language_info": {
      "name": "python"
    }
  },
  "cells": [
    {
      "cell_type": "markdown",
      "metadata": {
        "id": "view-in-github",
        "colab_type": "text"
      },
      "source": [
        "<a href=\"https://colab.research.google.com/github/niksom406/Learning_NLP/blob/main/Stemming_and_its_Types_Text_Preprocessing.ipynb\" target=\"_parent\"><img src=\"https://colab.research.google.com/assets/colab-badge.svg\" alt=\"Open In Colab\"/></a>"
      ]
    },
    {
      "cell_type": "markdown",
      "metadata": {
        "id": "a8948db5"
      },
      "source": [
        "## Stemming Techniques using NLTK\n",
        "\n",
        "**Stemming** is a process in natural language processing (NLP) that reduces words to their root form, also known as the stem. This helps in grouping together words with similar meanings but different forms (e.g., \"running\", \"runs\", \"ran\" all reduced to \"run\")."
      ]
    },
    {
      "cell_type": "code",
      "source": [
        "words = ['history', 'historical', 'historically', 'historian', 'histories', 'believe', 'believer', 'believing', 'believed', 'beautiful', 'beauty', 'beautify', 'beautifying', 'run', 'running','eats','eating','eaten','writing','written','programming','programs','finally','finalized']"
      ],
      "metadata": {
        "id": "TFI4XF_iRlq3"
      },
      "execution_count": 57,
      "outputs": []
    },
    {
      "cell_type": "markdown",
      "metadata": {
        "id": "7df57d52"
      },
      "source": [
        "### PorterStemmer\n",
        "\n",
        "The **PorterStemmer** is a widely used stemming algorithm. It's known for its simplicity and speed. It applies a series of rules to remove common suffixes from English words."
      ]
    },
    {
      "cell_type": "code",
      "source": [
        "## PorterStemmer\n",
        "\n",
        "from nltk.stem import PorterStemmer\n",
        "stemming = PorterStemmer()"
      ],
      "metadata": {
        "id": "Yx0dRAqJSNGD"
      },
      "execution_count": 58,
      "outputs": []
    },
    {
      "cell_type": "code",
      "source": [
        "for word in words:\n",
        "  print(word+\"-->\"+stemming.stem(word))"
      ],
      "metadata": {
        "colab": {
          "base_uri": "https://localhost:8080/"
        },
        "id": "IFK5mCc7Se18",
        "outputId": "e2e23132-cf09-41c8-8034-ca85e3b18684"
      },
      "execution_count": 59,
      "outputs": [
        {
          "output_type": "stream",
          "name": "stdout",
          "text": [
            "history-->histori\n",
            "historical-->histor\n",
            "historically-->histor\n",
            "historian-->historian\n",
            "histories-->histori\n",
            "believe-->believ\n",
            "believer-->believ\n",
            "believing-->believ\n",
            "believed-->believ\n",
            "beautiful-->beauti\n",
            "beauty-->beauti\n",
            "beautify-->beautifi\n",
            "beautifying-->beautifi\n",
            "run-->run\n",
            "running-->run\n",
            "eats-->eat\n",
            "eating-->eat\n",
            "eaten-->eaten\n",
            "writing-->write\n",
            "written-->written\n",
            "programming-->program\n",
            "programs-->program\n",
            "finally-->final\n",
            "finalized-->final\n"
          ]
        }
      ]
    },
    {
      "cell_type": "code",
      "source": [
        "stemming.stem('congratulations')"
      ],
      "metadata": {
        "colab": {
          "base_uri": "https://localhost:8080/",
          "height": 35
        },
        "id": "aT25nYc-TRM3",
        "outputId": "ba2c8753-4a47-4a66-d52a-327a25d3f2ad"
      },
      "execution_count": 60,
      "outputs": [
        {
          "output_type": "execute_result",
          "data": {
            "text/plain": [
              "'congratul'"
            ],
            "application/vnd.google.colaboratory.intrinsic+json": {
              "type": "string"
            }
          },
          "metadata": {},
          "execution_count": 60
        }
      ]
    },
    {
      "cell_type": "code",
      "source": [
        "stemming.stem('sitting')"
      ],
      "metadata": {
        "colab": {
          "base_uri": "https://localhost:8080/",
          "height": 35
        },
        "id": "O5MUooByTYi3",
        "outputId": "50135bb0-5669-49a0-c83c-bd55fb6984cc"
      },
      "execution_count": 61,
      "outputs": [
        {
          "output_type": "execute_result",
          "data": {
            "text/plain": [
              "'sit'"
            ],
            "application/vnd.google.colaboratory.intrinsic+json": {
              "type": "string"
            }
          },
          "metadata": {},
          "execution_count": 61
        }
      ]
    },
    {
      "cell_type": "markdown",
      "metadata": {
        "id": "701aacae"
      },
      "source": [
        "### RegexpStemmer\n",
        "\n",
        "The **RegexpStemmer** is a more flexible stemmer that uses regular expressions to remove suffixes. You can define custom regular expression patterns to match and remove specific word endings."
      ]
    },
    {
      "cell_type": "code",
      "source": [
        "from nltk.stem import RegexpStemmer"
      ],
      "metadata": {
        "id": "zaMM_8FLTV9g"
      },
      "execution_count": 62,
      "outputs": []
    },
    {
      "cell_type": "code",
      "source": [
        "regstemmer = RegexpStemmer('ing$|s$|e$|able$', min=4)"
      ],
      "metadata": {
        "id": "THMhvKcmTHeP"
      },
      "execution_count": 63,
      "outputs": []
    },
    {
      "cell_type": "code",
      "source": [
        "for word in words:\n",
        "  print(word+\"-->\"+regstemmer.stem(word))"
      ],
      "metadata": {
        "colab": {
          "base_uri": "https://localhost:8080/"
        },
        "id": "wED0G_tyToe_",
        "outputId": "c78c7ae9-a6cc-424e-a6ba-ff3cd22faa9a"
      },
      "execution_count": 64,
      "outputs": [
        {
          "output_type": "stream",
          "name": "stdout",
          "text": [
            "history-->history\n",
            "historical-->historical\n",
            "historically-->historically\n",
            "historian-->historian\n",
            "histories-->historie\n",
            "believe-->believ\n",
            "believer-->believer\n",
            "believing-->believ\n",
            "believed-->believed\n",
            "beautiful-->beautiful\n",
            "beauty-->beauty\n",
            "beautify-->beautify\n",
            "beautifying-->beautify\n",
            "run-->run\n",
            "running-->runn\n",
            "eats-->eat\n",
            "eating-->eat\n",
            "eaten-->eaten\n",
            "writing-->writ\n",
            "written-->written\n",
            "programming-->programm\n",
            "programs-->program\n",
            "finally-->finally\n",
            "finalized-->finalized\n"
          ]
        }
      ]
    },
    {
      "cell_type": "code",
      "source": [
        "regstemmer.stem('ingeating')"
      ],
      "metadata": {
        "colab": {
          "base_uri": "https://localhost:8080/",
          "height": 35
        },
        "id": "7qkCLa4ITyGg",
        "outputId": "670c84c7-a7f1-44b3-e1ca-be971ffea35c"
      },
      "execution_count": 65,
      "outputs": [
        {
          "output_type": "execute_result",
          "data": {
            "text/plain": [
              "'ingeat'"
            ],
            "application/vnd.google.colaboratory.intrinsic+json": {
              "type": "string"
            }
          },
          "metadata": {},
          "execution_count": 65
        }
      ]
    },
    {
      "cell_type": "markdown",
      "metadata": {
        "id": "1f4fbea8"
      },
      "source": [
        "### SnowballStemmer\n",
        "\n",
        "The **SnowballStemmer** is an improved version of the PorterStemmer. It supports multiple languages and is often considered more aggressive in its stemming than the original PorterStemmer."
      ]
    },
    {
      "cell_type": "code",
      "source": [
        "from nltk.stem import SnowballStemmer"
      ],
      "metadata": {
        "id": "jy5dX4KvTxbT"
      },
      "execution_count": 67,
      "outputs": []
    },
    {
      "cell_type": "code",
      "source": [
        "snowballstem = SnowballStemmer(language='english')"
      ],
      "metadata": {
        "id": "JbhDbFPITn6t"
      },
      "execution_count": 68,
      "outputs": []
    },
    {
      "cell_type": "code",
      "source": [
        "for word in words:\n",
        "  print(word+\"-->\"+snowballstem.stem(word))"
      ],
      "metadata": {
        "colab": {
          "base_uri": "https://localhost:8080/"
        },
        "id": "5m63F_6iUJZM",
        "outputId": "3409a963-32be-4089-d35c-cc0ecb83e518"
      },
      "execution_count": 69,
      "outputs": [
        {
          "output_type": "stream",
          "name": "stdout",
          "text": [
            "history-->histori\n",
            "historical-->histor\n",
            "historically-->histor\n",
            "historian-->historian\n",
            "histories-->histori\n",
            "believe-->believ\n",
            "believer-->believ\n",
            "believing-->believ\n",
            "believed-->believ\n",
            "beautiful-->beauti\n",
            "beauty-->beauti\n",
            "beautify-->beautifi\n",
            "beautifying-->beautifi\n",
            "run-->run\n",
            "running-->run\n",
            "eats-->eat\n",
            "eating-->eat\n",
            "eaten-->eaten\n",
            "writing-->write\n",
            "written-->written\n",
            "programming-->program\n",
            "programs-->program\n",
            "finally-->final\n",
            "finalized-->final\n"
          ]
        }
      ]
    },
    {
      "cell_type": "code",
      "source": [
        "stemming.stem('fairly'), stemming.stem('sportingly')"
      ],
      "metadata": {
        "colab": {
          "base_uri": "https://localhost:8080/"
        },
        "id": "SnGdwYgIU7xk",
        "outputId": "f6612542-8e5a-4757-f5e8-984e0eba49f1"
      },
      "execution_count": 72,
      "outputs": [
        {
          "output_type": "execute_result",
          "data": {
            "text/plain": [
              "('fairli', 'sportingli')"
            ]
          },
          "metadata": {},
          "execution_count": 72
        }
      ]
    },
    {
      "cell_type": "code",
      "source": [
        "snowballstem.stem('fairly'), snowballstem.stem('sportingly')"
      ],
      "metadata": {
        "colab": {
          "base_uri": "https://localhost:8080/"
        },
        "id": "ZT8ihzzzUDMA",
        "outputId": "6e035666-c53e-4be4-d2fe-7452aea076ac"
      },
      "execution_count": 71,
      "outputs": [
        {
          "output_type": "execute_result",
          "data": {
            "text/plain": [
              "('fair', 'sport')"
            ]
          },
          "metadata": {},
          "execution_count": 71
        }
      ]
    },
    {
      "cell_type": "code",
      "source": [
        "snowballstem.stem('goes')"
      ],
      "metadata": {
        "colab": {
          "base_uri": "https://localhost:8080/",
          "height": 35
        },
        "id": "Yzvm49jRU5Ol",
        "outputId": "92ca3841-b12e-4f90-ec4d-82a3e01f840c"
      },
      "execution_count": 73,
      "outputs": [
        {
          "output_type": "execute_result",
          "data": {
            "text/plain": [
              "'goe'"
            ],
            "application/vnd.google.colaboratory.intrinsic+json": {
              "type": "string"
            }
          },
          "metadata": {},
          "execution_count": 73
        }
      ]
    }
  ]
}